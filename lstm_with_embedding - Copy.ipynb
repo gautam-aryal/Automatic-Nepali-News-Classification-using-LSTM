{
  "cells": [
    {
      "cell_type": "code",
      "execution_count": 17,
      "metadata": {
        "id": "WhawOMe9re8-"
      },
      "outputs": [],
      "source": [
        "import numpy as np\n",
        "import os\n",
        "\n",
        "def load_dataset():\n",
        "    news_text = []\n",
        "    news_label = []\n",
        "\n",
        "    data_path = 'D:/nepali_news/'\n",
        "    dirs = [f.path for f in os.scandir(data_path) if f.is_dir()]\n",
        "    for dir in dirs:\n",
        "        dir_name = dir.split('/')[-1]\n",
        "        files = [f.path for f in os.scandir(dir) if not f.is_dir()]\n",
        "        for file in files:\n",
        "            with open(file, 'r', encoding='utf-8') as fp:\n",
        "                content = fp.read().replace('\\t', '').replace('\\n', '')\n",
        "                news_text.append(content)\n",
        "                news_label.append(dir_name)\n",
        "    # randomly shuffle  the data\n",
        "    def randomly_shuffle(x, y):\n",
        "      indices = np.arange(len(x))\n",
        "      np.random.shuffle(indices)\n",
        "      x = x[indices]\n",
        "      y = y[indices]\n",
        "      return x, y\n",
        "    return randomly_shuffle(np.array(news_text), np.array(news_label))"
      ]
    },
    {
      "cell_type": "code",
      "execution_count": 20,
      "metadata": {},
      "outputs": [],
      "source": [
        "import json\n",
        "def load_dataset():\n",
        "    x = []\n",
        "    y = []\n",
        "    with open('output.json', 'r') as file:\n",
        "        data = json.load(file)\n",
        "    for tpl in data:\n",
        "        x.append(tpl[0])\n",
        "        y.append(tpl[1])\n",
        "    return x, y"
      ]
    },
    {
      "cell_type": "code",
      "execution_count": 21,
      "metadata": {
        "id": "x4E90gRzroIX"
      },
      "outputs": [],
      "source": [
        "x, y = load_dataset()"
      ]
    },
    {
      "cell_type": "code",
      "execution_count": 22,
      "metadata": {},
      "outputs": [
        {
          "data": {
            "text/plain": [
              "('परम्परागत शैली का घर ढलान का भन्दा सुरक्षित\"पुराना वास्तुकला शैली का घर हरू ढलान का भन्दा बढी सुरक्षित रहे को एक अध्ययन ले देखाए को छ भूकम्प पछि अन्तर्राष्ट्रिय संस्था इकोमस र काठमाडौं उपत्यका संरक्षण कोष को संयुक्त संयोजन मा रिच आर्किटेक्टयर्स संस्था को पहल मा ललितपुर भक्तपुर र काठमाडौं का केही नेवारी बस्ती मा गरिए को अध्ययन ले यस्तो देखाए को हो \"\"पुराना वास्तुकला शैली का घर हरू ढलान का भन्दा बढी सुरक्षित रहे को एक अध्ययन ले देखाए को छ भूकम्प पछि अन्तर्राष्ट्रिय संस्था इकोमस र काठमाडौं उपत्यका संरक्षण कोष को संयुक्त संयोजन मा रिच आर्किटेक्टयर्स संस्था को पहल मा ललितपुर भक्तपुर र काठमाडौं का केही नेवारी बस्ती मा गरिए को अध्ययन ले यस्तो देखाए को हो उनी हरूले ट्रेडिसनल बिल्डिङ इन्भेन्टर नामक समूह बनाई कलेज का विद्यार्थी तथा स्थानीयवासी को सहयोग मा ललितपुर को ले ले चापागाउँ ठेचो सुनाकोठी बुङमती खोकना लुभु हरिसिद्धि सानोगाउँ बाडेगाउँ ठैव भक्तपुर को थिमी बोडे नगदेश र काठमाडौं का केही भित्री नेवारी बस्ती को अध्ययन गरे का थिए त्यसक्रम मा घर मठ मन्दिर पाटीपौवा का किसिम बनावट काठ को संरचना पक्की गारो छाना फिनिसिङ रङपोताई सम्भार लगायत समग्र घर को तस्बिर सहित तथ्यांक संकलन गरिए को थियो रिच आर्किटेक्ट संस्था का निर्देशक पद्मसुन्दर महर्जन ले घर का भित्री भाग का ढोका झ्याल को फ्रेम जोर्नी चुकल दलिन थाम को प्रयोग बाहिरी भित्ता को सतह मा प्रयोग गरिए का चुन सुर्खी भुइँ तथा सजावट का वस्तु माटो वा चुन को मसला परम्परागत ढंग ले प्रयोग गरिए का घर ढलान गरिएका भन्दा बढी मजबुत पाइए को बताए उपत्यका का बस्ती र उपत्यका बाहिर का धुलिखेल बनेपा खड्पु खोपासी साँगा नाला चित्लाङ टिस्टुङ पालुङ पनौती गरी ठाउँ का पुराना वास्तुकला भए का मौलिक शैली का घर का तस्बिर सहित तथ्यांक संकलन भइ रहेको छ उन ले भने ढलान घर को आयु बढी मा सय वर्ष र पुराना वास्तुकला शैली का घर को आयु बढी मा हजार वर्ष सम्मको हुने गरे को छ महर्जन का अनुसार विदेशी शैली का ढलान घर निर्माण गर्दा आवश्यक प्रविधि नअपनाउने र कमसल निर्माण सामग्री प्रयोग गर्ने गरेका ले पनि नेपाल मा ढलान घर भन्दा पुराना इँटा माटो र काठजडित घर बलिया हुने गरे का हुन् पुराना घर भूकम्प को समय मा धेरै मात्रा मा हल्लिए पनि हतपत नढल्ने किसिम का छन् उन ले भने तर ढलान घर फ्रेम स्ट्रक्चर को हुने भएका ले चर्के पछि पूरै ढल्ने गर्छ विनाशकारी भूकम्प ले सहर का पुराना बस्ती मा भन्दा नयाँ र बलिया भनिए का ढलान बाट बढी मानवीय क्षति भए को थियो सितापाइला गोंगबु सामाखुसी लगायत क्षेत्र मा ढलान घर ले गर्दा एउटै घर मा पनि दर्जनौं मानिस को थिचिएर मृत्यु भए को थियो तर ललितपुर को पाटन बुङमती खोकना लुभु हरिसिद्धि भक्तपुर र काठमाडौं का पुराना बस्ती मा प्रतिशत घर मा क्षति भए पनि मानवीय क्षति भने कम भए को संस्था ले बताए को छ भूकम्प ले क्षति भए का घर पुनर्निर्माण गर्दा पुरानै मौलिक वास्तुकला शैली मा निर्माण गर्न स्थानीय वासी र राज्य पक्ष ले विशेष चासो दिनु पर्ने संस्था को भनाइ छ पुराना कमजोर भए का केही घर को सुधार का लागि भने विशेषज्ञ बाट प्राविधिक सहयोग सल्लाह बाट सुदृढीकरण गर्न सकिने काठमाडौं उपत्यका संरक्षण कोष का निर्देशक डा रोहित रञ्जितकार ले बताए पौराणिक चित्रकला विशेष बुट्टा भए का घर अधिकांश साल भन्दा पुराना छन् उन ले भने कतिपय मल्लकालीन छन् \"',\n",
              " 'Desh')"
            ]
          },
          "execution_count": 22,
          "metadata": {},
          "output_type": "execute_result"
        }
      ],
      "source": [
        "x[1001], y[1001]"
      ]
    },
    {
      "cell_type": "code",
      "execution_count": 23,
      "metadata": {},
      "outputs": [
        {
          "data": {
            "text/plain": [
              "('परम्परागत शैली का घर ढलान का भन्दा सुरक्षित\"पुराना वास्तुकला शैली का घर हरू ढलान का भन्दा बढी सुरक्षित रहे को एक अध्ययन ले देखाए को छ भूकम्प पछि अन्तर्राष्ट्रिय संस्था इकोमस र काठमाडौं उपत्यका संरक्षण कोष को संयुक्त संयोजन मा रिच आर्किटेक्टयर्स संस्था को पहल मा ललितपुर भक्तपुर र काठमाडौं का केही नेवारी बस्ती मा गरिए को अध्ययन ले यस्तो देखाए को हो \"\"पुराना वास्तुकला शैली का घर हरू ढलान का भन्दा बढी सुरक्षित रहे को एक अध्ययन ले देखाए को छ भूकम्प पछि अन्तर्राष्ट्रिय संस्था इकोमस र काठमाडौं उपत्यका संरक्षण कोष को संयुक्त संयोजन मा रिच आर्किटेक्टयर्स संस्था को पहल मा ललितपुर भक्तपुर र काठमाडौं का केही नेवारी बस्ती मा गरिए को अध्ययन ले यस्तो देखाए को हो उनी हरूले ट्रेडिसनल बिल्डिङ इन्भेन्टर नामक समूह बनाई कलेज का विद्यार्थी तथा स्थानीयवासी को सहयोग मा ललितपुर को ले ले चापागाउँ ठेचो सुनाकोठी बुङमती खोकना लुभु हरिसिद्धि सानोगाउँ बाडेगाउँ ठैव भक्तपुर को थिमी बोडे नगदेश र काठमाडौं का केही भित्री नेवारी बस्ती को अध्ययन गरे का थिए त्यसक्रम मा घर मठ मन्दिर पाटीपौवा का किसिम बनावट काठ को संरचना पक्की गारो छाना फिनिसिङ रङपोताई सम्भार लगायत समग्र घर को तस्बिर सहित तथ्यांक संकलन गरिए को थियो रिच आर्किटेक्ट संस्था का निर्देशक पद्मसुन्दर महर्जन ले घर का भित्री भाग का ढोका झ्याल को फ्रेम जोर्नी चुकल दलिन थाम को प्रयोग बाहिरी भित्ता को सतह मा प्रयोग गरिए का चुन सुर्खी भुइँ तथा सजावट का वस्तु माटो वा चुन को मसला परम्परागत ढंग ले प्रयोग गरिए का घर ढलान गरिएका भन्दा बढी मजबुत पाइए को बताए उपत्यका का बस्ती र उपत्यका बाहिर का धुलिखेल बनेपा खड्पु खोपासी साँगा नाला चित्लाङ टिस्टुङ पालुङ पनौती गरी ठाउँ का पुराना वास्तुकला भए का मौलिक शैली का घर का तस्बिर सहित तथ्यांक संकलन भइ रहेको छ उन ले भने ढलान घर को आयु बढी मा सय वर्ष र पुराना वास्तुकला शैली का घर को आयु बढी मा हजार वर्ष सम्मको हुने गरे को छ महर्जन का अनुसार विदेशी शैली का ढलान घर निर्माण गर्दा आवश्यक प्रविधि नअपनाउने र कमसल निर्माण सामग्री प्रयोग गर्ने गरेका ले पनि नेपाल मा ढलान घर भन्दा पुराना इँटा माटो र काठजडित घर बलिया हुने गरे का हुन् पुराना घर भूकम्प को समय मा धेरै मात्रा मा हल्लिए पनि हतपत नढल्ने किसिम का छन् उन ले भने तर ढलान घर फ्रेम स्ट्रक्चर को हुने भएका ले चर्के पछि पूरै ढल्ने गर्छ विनाशकारी भूकम्प ले सहर का पुराना बस्ती मा भन्दा नयाँ र बलिया भनिए का ढलान बाट बढी मानवीय क्षति भए को थियो सितापाइला गोंगबु सामाखुसी लगायत क्षेत्र मा ढलान घर ले गर्दा एउटै घर मा पनि दर्जनौं मानिस को थिचिएर मृत्यु भए को थियो तर ललितपुर को पाटन बुङमती खोकना लुभु हरिसिद्धि भक्तपुर र काठमाडौं का पुराना बस्ती मा प्रतिशत घर मा क्षति भए पनि मानवीय क्षति भने कम भए को संस्था ले बताए को छ भूकम्प ले क्षति भए का घर पुनर्निर्माण गर्दा पुरानै मौलिक वास्तुकला शैली मा निर्माण गर्न स्थानीय वासी र राज्य पक्ष ले विशेष चासो दिनु पर्ने संस्था को भनाइ छ पुराना कमजोर भए का केही घर को सुधार का लागि भने विशेषज्ञ बाट प्राविधिक सहयोग सल्लाह बाट सुदृढीकरण गर्न सकिने काठमाडौं उपत्यका संरक्षण कोष का निर्देशक डा रोहित रञ्जितकार ले बताए पौराणिक चित्रकला विशेष बुट्टा भए का घर अधिकांश साल भन्दा पुराना छन् उन ले भने कतिपय मल्लकालीन छन् \"',\n",
              " 'Desh')"
            ]
          },
          "execution_count": 23,
          "metadata": {},
          "output_type": "execute_result"
        }
      ],
      "source": [
        "x[1001], y[1001]"
      ]
    },
    {
      "cell_type": "code",
      "execution_count": 25,
      "metadata": {
        "id": "okQDwdLtsKyo"
      },
      "outputs": [],
      "source": [
        "import re\n",
        "from nltk.corpus import stopwords\n",
        "\n",
        "stop_words = stopwords.words(\"nepali\")\n",
        "\n",
        "def text_processing(News):\n",
        "    result = []\n",
        "    for news in News:\n",
        "        news = re.sub('<.*>', '', news) # remove tags\n",
        "        news = re.sub('[।(),<<?!,—,–,/,’,‘,:,\\u200d]', '', news) # remove punctuation\n",
        "        news = re.sub(r'[^\\u0900-\\u097F\\s]', '', news)  #remove non useful character\n",
        "        news = re.sub(r'\\d+', '', news)         # remove number \n",
        "        news = \" \".join([i for i in news.split()if i not in (stop_words)])\n",
        "        result.append(news)\n",
        "    return result"
      ]
    },
    {
      "cell_type": "code",
      "execution_count": 26,
      "metadata": {},
      "outputs": [
        {
          "name": "stderr",
          "output_type": "stream",
          "text": [
            "[nltk_data] Downloading package stopwords to\n",
            "[nltk_data]     C:\\Users\\Falcon\\AppData\\Roaming\\nltk_data...\n",
            "[nltk_data]   Package stopwords is already up-to-date!\n"
          ]
        },
        {
          "data": {
            "text/plain": [
              "True"
            ]
          },
          "execution_count": 26,
          "metadata": {},
          "output_type": "execute_result"
        }
      ],
      "source": [
        "import nltk\n",
        "nltk.download('stopwords')"
      ]
    },
    {
      "cell_type": "code",
      "execution_count": 27,
      "metadata": {
        "id": "r55G6nYlsPGz"
      },
      "outputs": [],
      "source": [
        "x = text_processing(x)"
      ]
    },
    {
      "cell_type": "code",
      "execution_count": 28,
      "metadata": {
        "colab": {
          "base_uri": "https://localhost:8080/",
          "height": 109
        },
        "id": "RiXrYGrMOuAy",
        "outputId": "02b3248b-4d29-46cb-8921-024bc04682aa"
      },
      "outputs": [
        {
          "data": {
            "text/plain": [
              "('परम्परागत शैली घर ढलान सुरक्षितपुराना वास्तुकला शैली घर हरू ढलान बढी सुरक्षित रहे अध्ययन देखाए भूकम्प अन्तर्राष्ट्रिय संस्था इकोमस काठमाडौं उपत्यका संरक्षण कोष संयुक्त संयोजन रिच आर्किटेक्टयर्स संस्था पहल ललितपुर भक्तपुर काठमाडौं नेवारी बस्ती गरिए अध्ययन देखाए पुराना वास्तुकला शैली घर हरू ढलान बढी सुरक्षित रहे अध्ययन देखाए भूकम्प अन्तर्राष्ट्रिय संस्था इकोमस काठमाडौं उपत्यका संरक्षण कोष संयुक्त संयोजन रिच आर्किटेक्टयर्स संस्था पहल ललितपुर भक्तपुर काठमाडौं नेवारी बस्ती गरिए अध्ययन देखाए उनी हरूले ट्रेडिसनल बिल्डिङ इन्भेन्टर नामक समूह बनाई कलेज विद्यार्थी स्थानीयवासी सहयोग ललितपुर चापागाउँ ठेचो सुनाकोठी बुङमती खोकना लुभु हरिसिद्धि सानोगाउँ बाडेगाउँ ठैव भक्तपुर थिमी बोडे नगदेश काठमाडौं नेवारी बस्ती अध्ययन गरे त्यसक्रम घर मठ मन्दिर पाटीपौवा किसिम बनावट काठ संरचना पक्की गारो छाना फिनिसिङ रङपोताई सम्भार लगायत समग्र घर तस्बिर सहित तथ्यांक संकलन गरिए रिच आर्किटेक्ट संस्था निर्देशक पद्मसुन्दर महर्जन घर भाग ढोका झ्याल फ्रेम जोर्नी चुकल दलिन थाम प्रयोग बाहिरी भित्ता सतह प्रयोग गरिए चुन सुर्खी भुइँ सजावट वस्तु माटो वा चुन मसला परम्परागत ढंग प्रयोग गरिए घर ढलान गरिएका बढी मजबुत पाइए बताए उपत्यका बस्ती उपत्यका धुलिखेल बनेपा खड्पु खोपासी साँगा नाला चित्लाङ टिस्टुङ पालुङ पनौती ठाउँ पुराना वास्तुकला मौलिक शैली घर तस्बिर सहित तथ्यांक संकलन भइ उन ढलान घर आयु बढी सय वर्ष पुराना वास्तुकला शैली घर आयु बढी हजार वर्ष सम्मको गरे महर्जन विदेशी शैली ढलान घर निर्माण गर्दा आवश्यक प्रविधि नअपनाउने कमसल निर्माण सामग्री प्रयोग नेपाल ढलान घर पुराना इँटा माटो काठजडित घर बलिया गरे पुराना घर भूकम्प मात्रा हल्लिए हतपत नढल्ने किसिम उन ढलान घर फ्रेम स्ट्रक्चर भएका चर्के पूरै ढल्ने विनाशकारी भूकम्प सहर पुराना बस्ती बलिया भनिए ढलान बाट बढी मानवीय क्षति सितापाइला गोंगबु सामाखुसी लगायत क्षेत्र ढलान घर गर्दा घर दर्जनौं मानिस थिचिएर मृत्यु ललितपुर पाटन बुङमती खोकना लुभु हरिसिद्धि भक्तपुर काठमाडौं पुराना बस्ती प्रतिशत घर क्षति मानवीय क्षति कम संस्था बताए भूकम्प क्षति घर पुनर्निर्माण गर्दा पुरानै मौलिक वास्तुकला शैली निर्माण स्थानीय वासी राज्य पक्ष विशेष चासो दिनु पर्ने संस्था भनाइ पुराना कमजोर घर सुधार विशेषज्ञ बाट प्राविधिक सहयोग सल्लाह बाट सुदृढीकरण सकिने काठमाडौं उपत्यका संरक्षण कोष निर्देशक डा रोहित रञ्जितकार बताए पौराणिक चित्रकला विशेष बुट्टा घर अधिकांश साल पुराना उन कतिपय मल्लकालीन',\n",
              " 'Desh')"
            ]
          },
          "execution_count": 28,
          "metadata": {},
          "output_type": "execute_result"
        }
      ],
      "source": [
        "x[1001], y[1001]"
      ]
    },
    {
      "cell_type": "code",
      "execution_count": 29,
      "metadata": {},
      "outputs": [
        {
          "name": "stdout",
          "output_type": "stream",
          "text": [
            "छ र पनि छन् लागि भएको गरेको भने गर्न गर्ने हो तथा यो रहेको उनले थियो हुने गरेका थिए गर्दै तर नै को मा हुन् भन्ने हुन गरी त हुन्छ अब के रहेका गरेर छैन दिए भए यस ले गर्नु औं सो त्यो कि जुन यी का गरि ती न छु छौं लाई नि उप अक्सर आदि कसरी क्रमशः चाले अगाडी अझै अनुसार अन्तर्गत अन्य अन्यत्र अन्यथा अरु अरुलाई अर्को अर्थात अर्थात् अलग आए आजको ओठ आत्म आफू आफूलाई आफ्नै आफ्नो आयो उदाहरण उनको उहालाई एउटै एक एकदम कतै कम से कम कसै कसैले कहाँबाट कहिलेकाहीं का किन किनभने कुनै कुरा कृपया केही कोही गए गरौं गर्छ गर्छु गर्नुपर्छ गयौ गैर चार चाहनुहुन्छ चाहन्छु चाहिए छू जताततै जब जबकि जसको जसबाट जसमा जसलाई जसले जस्तै जस्तो जस्तोसुकै जहाँ जान जाहिर जे जो ठीक तत्काल तदनुसार तपाईको तपाई पर्याप्त पहिले पहिलो पहिल्यै पाँच पाँचौं तल तापनी तिनी तिनीहरू तिनीहरुको तिनिहरुलाई तिमी तिर तीन तुरुन्तै तेस्रो तेस्कारण पूर्व प्रति प्रतेक प्लस फेरी बने त्सपछि त्सैले त्यहाँ थिएन दिनुभएको दिनुहुन्छ दुई देखि बरु बारे बाहिर देखिन्छ देखियो देखे देखेको देखेर दोस्रो धेरै नजिकै नत्र नयाँ निम्ति बाहेक बीच बीचमा भन निम्न निम्नानुसार निर्दिष्ट नौ पक्का पक्कै पछि पछिल्लो पटक पर्छ पर्थ्यो भन्छन् भन् भन्छु भन्दा भन्नुभयो भर भित्र भित्री म मलाई मात्र माथि मुख्य मेरो यति यथोचित यदि यद्यपि यसको यसपछि यसबाहेक यसरी यसो यस्तो यहाँ यहाँसम्म या रही राखे राख्छ राम्रो रूप लगभग वरीपरी वास्तवमा बिरुद्ध बिशेष सायद शायद संग संगै सक्छ सट्टा सधै सबै सबैलाई समय सम्भव सम्म सही साँच्चै सात साथ साथै सारा सोही स्पष्ट हरे हरेक\n",
            "255\n"
          ]
        }
      ],
      "source": [
        "print(*stop_words)\n",
        "print(len(stop_words))"
      ]
    },
    {
      "cell_type": "code",
      "execution_count": 30,
      "metadata": {},
      "outputs": [],
      "source": [
        "max_len = max([len(news.split(\" \")) for news in x])"
      ]
    },
    {
      "cell_type": "code",
      "execution_count": 31,
      "metadata": {
        "colab": {
          "base_uri": "https://localhost:8080/"
        },
        "id": "Rj77rr2wsk6P",
        "outputId": "e46fbc6c-c2a5-4ff4-cd7d-51259a13b1f8"
      },
      "outputs": [
        {
          "name": "stdout",
          "output_type": "stream",
          "text": [
            "X shape: (10000, 500)\n",
            "Encoded labels: [1 0 7 ... 0 3 8]\n"
          ]
        }
      ],
      "source": [
        "# Import necessary libraries\n",
        "import numpy as np\n",
        "import tensorflow as tf\n",
        "import tensorflow.keras as keras\n",
        "from tensorflow.keras.preprocessing.text import Tokenizer\n",
        "from tensorflow.keras.preprocessing.sequence import pad_sequences\n",
        "from tensorflow.keras.models import Sequential\n",
        "from tensorflow.keras.layers import Embedding, LSTM, Dense, Bidirectional, Dot, Lambda, Activation, Input, Layer, Dropout\n",
        "from tensorflow.keras.callbacks import ModelCheckpoint\n",
        "import keras.backend as K\n",
        "\n",
        "from sklearn.model_selection import train_test_split\n",
        "from sklearn.preprocessing import LabelEncoder\n",
        "\n",
        "\n",
        "\n",
        "\n",
        "# Tokenization and encoding\n",
        "max_words = 50000  # Maximum number of words to keep based on frequency\n",
        "max_len = 500  # Maximum sequence length (number of words) to pad sequences to\n",
        "\n",
        "# Tokenize the texts\n",
        "tokenizer = Tokenizer(num_words=max_words)\n",
        "tokenizer.fit_on_texts(x)\n",
        "sequences = tokenizer.texts_to_sequences(x)\n",
        "\n",
        "# Padding sequences to ensure uniform input size\n",
        "X = pad_sequences(sequences, maxlen=max_len)\n",
        "print(\"X shape:\", X.shape)\n",
        "\n",
        "# Convert labels to categorical values\n",
        "label_encoder = LabelEncoder()\n",
        "y = label_encoder.fit_transform(y)\n",
        "print(\"Encoded labels:\", y)\n",
        "\n",
        "# Split data into training and testing sets\n",
        "X_train, X_test, y_train, y_test = train_test_split(X, y, test_size=0.2, random_state=42)\n",
        "\n",
        "# Define the LSTM model\n",
        "embedding_dim = 128\n",
        "num_class = len(set(y))\n",
        "epochs = 5\n",
        "batch_size = 5"
      ]
    },
    {
      "cell_type": "code",
      "execution_count": 32,
      "metadata": {},
      "outputs": [],
      "source": [
        "from tensorflow.keras.utils import register_keras_serializable \n",
        "\n",
        "@register_keras_serializable()\n",
        "class AttentionLayer(Layer):\n",
        "    def __init__(self, **kwargs):\n",
        "        super(AttentionLayer, self).__init__(**kwargs)\n",
        "\n",
        "    def build(self, input_shape):\n",
        "        self.W = self.add_weight(name=\"att_weight\", shape=(input_shape[-1], 1), initializer=\"normal\")\n",
        "        self.b = self.add_weight(name=\"att_bias\", shape=(input_shape[1], 1), initializer=\"zeros\")\n",
        "        super(AttentionLayer, self).build(input_shape)\n",
        "\n",
        "    def call(self, x):\n",
        "        et = tf.squeeze(tf.tanh(tf.matmul(x, self.W) + self.b), axis=-1)\n",
        "        # Apply softmax to get attention weights\n",
        "        at = tf.nn.softmax(et, axis=1)\n",
        "        # Apply attention weights to the input\n",
        "        output = x * tf.expand_dims(at, axis=-1)\n",
        "        # Sum along the time dimension to get the final attended representation\n",
        "        output = tf.reduce_sum(output, axis=1)\n",
        "        return output\n",
        "\n",
        "    def compute_output_shape(self, input_shape):\n",
        "        return (input_shape[0], input_shape[-1])\n",
        "    \n",
        "    def get_config(self):  # To support serialization\n",
        "        config = super(AttentionLayer, self).get_config()\n",
        "        return config\n",
        "\n",
        "    @classmethod\n",
        "    def from_config(cls, config):\n",
        "        return cls(**config)\n",
        " "
      ]
    },
    {
      "cell_type": "code",
      "execution_count": 33,
      "metadata": {},
      "outputs": [],
      "source": [
        "model = Sequential()\n",
        "model.add(Embedding(max_words, embedding_dim))\n",
        "model.add(Dropout(0.3))\n",
        "model.add(Bidirectional(LSTM(128, dropout=0.3, recurrent_dropout=0.3, return_sequences=True, kernel_regularizer=keras.regularizers.l2(0.01))))\n",
        "model.add(AttentionLayer())  # Add Attention layer\n",
        "model.add(Dense(len(set(y)), activation='softmax'))  # Output layer with softmax activation\n",
        "\n",
        "model.compile(loss='sparse_categorical_crossentropy', optimizer='adam', metrics=['accuracy'])"
      ]
    },
    {
      "cell_type": "code",
      "execution_count": 34,
      "metadata": {},
      "outputs": [],
      "source": [
        "model.compile(loss=\"sparse_categorical_crossentropy\", optimizer=\"adam\", metrics=[\"accuracy\"])\n"
      ]
    },
    {
      "cell_type": "code",
      "execution_count": 16,
      "metadata": {},
      "outputs": [
        {
          "name": "stdout",
          "output_type": "stream",
          "text": [
            "Epoch 1/5\n",
            "\u001b[1m1600/1600\u001b[0m \u001b[32m━━━━━━━━━━━━━━━━━━━━\u001b[0m\u001b[37m\u001b[0m \u001b[1m508s\u001b[0m 315ms/step - accuracy: 0.2833 - loss: 2.3867 - val_accuracy: 0.5420 - val_loss: 1.4336\n",
            "Epoch 2/5\n",
            "\u001b[1m1600/1600\u001b[0m \u001b[32m━━━━━━━━━━━━━━━━━━━━\u001b[0m\u001b[37m\u001b[0m \u001b[1m511s\u001b[0m 320ms/step - accuracy: 0.5564 - loss: 1.3707 - val_accuracy: 0.7100 - val_loss: 1.1304\n",
            "Epoch 3/5\n",
            "\u001b[1m1600/1600\u001b[0m \u001b[32m━━━━━━━━━━━━━━━━━━━━\u001b[0m\u001b[37m\u001b[0m \u001b[1m497s\u001b[0m 311ms/step - accuracy: 0.7627 - loss: 0.9299 - val_accuracy: 0.8205 - val_loss: 0.7464\n",
            "Epoch 4/5\n",
            "\u001b[1m1600/1600\u001b[0m \u001b[32m━━━━━━━━━━━━━━━━━━━━\u001b[0m\u001b[37m\u001b[0m \u001b[1m501s\u001b[0m 313ms/step - accuracy: 0.8799 - loss: 0.5621 - val_accuracy: 0.8370 - val_loss: 0.6439\n",
            "Epoch 5/5\n",
            "\u001b[1m1600/1600\u001b[0m \u001b[32m━━━━━━━━━━━━━━━━━━━━\u001b[0m\u001b[37m\u001b[0m \u001b[1m494s\u001b[0m 309ms/step - accuracy: 0.9277 - loss: 0.4027 - val_accuracy: 0.8415 - val_loss: 0.7071\n"
          ]
        }
      ],
      "source": [
        "history = model.fit(X_train, y_train, epochs=epochs, batch_size=batch_size, validation_data=(X_test, y_test), verbose=1)\n"
      ]
    },
    {
      "cell_type": "code",
      "execution_count": 35,
      "metadata": {},
      "outputs": [
        {
          "name": "stdout",
          "output_type": "stream",
          "text": [
            "Accuracy: 2.25%\n"
          ]
        }
      ],
      "source": [
        "# Evaluate the model\n",
        "loss, accuracy = model.evaluate(X_test, y_test, verbose=0)\n",
        "print(f'Accuracy: {accuracy*100:.2f}%')\n",
        "\n",
        "# Example of making a prediction\n"
      ]
    },
    {
      "cell_type": "code",
      "execution_count": 15,
      "metadata": {},
      "outputs": [
        {
          "name": "stderr",
          "output_type": "stream",
          "text": [
            "\n",
            "KeyboardInterrupt\n",
            "\n"
          ]
        }
      ],
      "source": [
        "model.save('model12.keras')"
      ]
    },
    {
      "cell_type": "code",
      "execution_count": 36,
      "metadata": {},
      "outputs": [],
      "source": [
        "model = tf.keras.models.load_model('model12.keras', custom_objects={\"AttentionLayer\": AttentionLayer})"
      ]
    },
    {
      "cell_type": "code",
      "execution_count": 37,
      "metadata": {},
      "outputs": [
        {
          "name": "stdout",
          "output_type": "stream",
          "text": [
            "Accuracy: 84.15%\n"
          ]
        }
      ],
      "source": [
        "# Evaluate the model\n",
        "loss, accuracy = model.evaluate(X_test, y_test, verbose=0)\n",
        "print(f'Accuracy: {accuracy*100:.2f}%')\n",
        "\n",
        "# Example of making a prediction\n"
      ]
    },
    {
      "cell_type": "code",
      "execution_count": 38,
      "metadata": {},
      "outputs": [
        {
          "name": "stdout",
          "output_type": "stream",
          "text": [
            "\u001b[1m1/1\u001b[0m \u001b[32m━━━━━━━━━━━━━━━━━━━━\u001b[0m\u001b[37m\u001b[0m \u001b[1m0s\u001b[0m 416ms/step\n",
            "Predicted labels: ['Viswa' 'Khelkud']\n"
          ]
        }
      ],
      "source": [
        "new_texts = [\n",
        "    'उत्तरप्रदेश मा हिंसा को राजनीतिभारत को उत्तरप्रदेश राज्य को मुजफ्फर नगर मा साम्प्रादायिक दंगा लाई नियन्त्रण गर्न सेना परिचालन गर्नुपरे को छ त्यहाँ सोमबार पनि थप जना को ज्यान गए को छ \" भारत को उत्तरप्रदेश राज्य को मुजफ्फर नगर मा साम्प्रादायिक दंगा लाई नियन्त्रण गर्न सेना परिचालन गर्नुपरे को छ त्यहाँ सोमबार पनि थप जना को ज्यान गए को छ जातीय दंगा भड्काउने एक कथित भिडियो का कारण शनिबार र आइतबार भए को झडप मा जना को ज्यान गए को थियो त्यहाँ तेस्रो दिन पनि कर्फ्य जारी छ आआफ्नो राजनीतिक स्व्ाार्थ मा भीड लाई उक्साए को आरोप मा स्थानीय नेता विरुद्ध प्रहरी ले मुद्दा दर्ता गरे को छ अहिले सम्म जना लाई नियन्त्रण मा लिइए को छ स्थानीय देखि केन्द्रीय स्तर का नेता लाई समेत उक्त नगर को आवागमन मा प्रहरी ले प्रतिबन्ध लगाए को छ यो घटना लाई लिएर राज्य देखि केन्द्र सम्म राजनीतिक माहौल चर्के को छ केन्द्र सरकार ले राज्य सँग यस घटना को बारे मा रिपोर्ट माग गरे को छ राज्यपाल ले केन्द्र सरकार लाई पठाए को रिपोर्ट मा राज्य सरकार माथि यो घटना मा लापरबाही गरे को आरोप लगाइए को छ रिपोर्ट मा केन्द्रीय सुरक्षा बल को आवश्यकता माथि जोड दिइए को छ अन्य भाग मा हिंसा फैलिन नदिन लाई ठोस कदम चाल्न केन्द्र ले राज्य सरकार लाई निर्देशन दिए को छ आवश्यकता परे मा शान्ति भंग गर्ने र उपद्रव मच्चाउने लाई पक्राउ गर्न एवं घर मै नजरबन्द गर्न सरकार ले आदेश जारी गरे को छ विपक्षी बहुजन समाज पार्टी की नेतृ मायावती ले राज्य मा राष्ट्रपति शासन को माग गरे की छन् समाजवादी पार्टी का युवा नेता अखिलेश यादव ले सता सम्हाले को डेढ वर्ष को अवधि मा सय भन्दा बढी दंगा भए को उन ले जानकारी दिए की छन् लोकसभा निर्वाचन नजिकिए को बेला सत्ताधारी समाजवादी र भाजपा ले भोट बटुल्न जातीय घृणा फैलाउने गतिविधि गरे को मायावती ले आरोप लगाए की छन् प्रदेश का मुख्यमन्त्री यादव ले केही दल ले वातावरण बिगारि रहेको आरोप लगाए का छन् उन ले बसेर यो समस्या को हल खोज्न सकिने बताए का छन् उक्त राज्य मा बेलाबेला मा हिन्दु र मुस्लिम बीच द्वन्द्व हुने गर्दछ सन् मा भए को हिंसा मा सयौं को ज्यान गए को थियो भारत को उत्तरप्रदेश मध्यप्रदेश र बिहार लाई जातीय हिंसा मा अग्रणी मानिन्छ भोट को राजनीति गर्ने दल हरूले स्थानीय लाई आपस मा भिडाएर फाइदा लिने मनसाय ले भ्रामक सूचना फैलाउँछन्',\n",
        "    'तेक्वान्दो को महत्त्वाकांक्षी योजना सुरु नेपाली मार्सल आर्ट को सर्वाधिक सफल खेल तेक्वान्दो ले आइतबार महत्त्वाकांक्षी योजना सुरु गरे को छ \" नेपाली मार्सल आर्ट को सर्वाधिक सफल खेल तेक्वान्दो ले आइतबार महत्त्वाकांक्षी योजना सुरु गरे को छ नेपाल तेक्वान्दो संघ को कार्यालय परिसर सातदोबाटो मा राष्ट्रिय खेलकुद परिषद् राखेप का सदस्य सचिव युवराज लामा ले तेक्वान्दो एकेडेमी भवन को शिलान्यास गरे राखेप ले एकेडेमी निर्माण को जग्गा उपलब्ध गराए को वर्ष पछि संघ ले भवन निर्माण को थालनी गरे को हो दस वर्ष अघि राखेप का तत्कालीन उपाध्यक्ष गणेश थापा को संयोजकत्व मा रहे को जग्गा वितरण समिति ले एकेडेमी का लागि जग्गा उपलब्ध गराए को थियो एकेडेमी भवन को नमुना प्रस्तावना परिषद् को इन्जिनियरिङ विभाग मा प्रस्तुत गरिए को संघ का उपाध्यक्ष तथा इन्जिनियर सञ्जीव रेग्मी ले बताए परिषद् ले कन्सल्टेन्ट को सहयोग मा एकेडेमी भवन को स्वरूप लाई अन्तिम रूप दिनेछ पौडी परिसर बाहिर पश्चिम तर्फ रहे को करिब रोपनी जग्गा मा एकेडेमी बन्न लागे को हो भवन एक रोपनी आना क्षेत्रफल मा बन्नेछ रेग्मी ले जानकारी दिए करिब करोड रुपैयाँ निर्माण लागत अनुमान गरिए को तले भवन तीन वर्ष मा निर्माण हुने लक्ष्य छ नेपाल ले आयोजना गर्ने औं दक्षिण एसियाली खेलकुदसाग का लागि तयार गरिसक्ने हाम्रो लक्ष्य छ तेक्वान्दो संघ का महासचिव दीपराज गुरुङ ले भने उन ले त्यसबेला एकेडेमी मा अन्य मार्सल आर्ट का खेल हरूले पनि खेलाउन सकिने बताए सरकार ले निर्माण का लागि यस वर्ष लाख रुपैयाँ दिए को छ संघ द्वारा प्रस्तावित भवन को तला मा करिब हजार वर्गफिट क्षेत्रफल हुनेछ भुइँतला मा लवी र अन्तर्राष्ट्रियस्तर को डाइनिङ हल बन्नेछ खेलाडी का लागि जिम्न्याजियम साउना र ज्याकु जीको व्यवस्था हुने भवन मा दुई वटा लिफ्ट रहनेछन् पहिलो तला मा चार वटा ट्रेनिङ हल र दोस्रो मा लेक्चर हल तथा कक्षा कोठा रहनेछन् तेस्रो तला मा कार्यालय भवन र चौथो मा होस्टल को व्यवस्था रहनेछ पाँचौं र छैटौं मा संयुक्त रूपमा कभर्डहल बन्नेछन् अन्तर्राष्ट्रियस्तर को एरिनासहित को करिब सय व्यक्ति अट्ने प्यारापिट पनि त्यस मा रहनेछ सबै पक्ष लाई समेटेर हामी ले राखेप मा प्रस्तुत गरे का छौं यसै अनुरूप हुनसक्छ वा केही परिवर्तन हुन्छ इन्जिनियर रेग्मी ले भने यो भन्दा कमजोर भने बन्दैन संघ ले अध्यक्ष प्रकाशशमशेर राणा को अध्यक्षता मा सदस्यीय भवन निर्माण समिति गठन गरे को छ सरकार ले उपलब्ध गराए को रकम बाट काम सुरु गर्छौं विभिन्न व्यापारिक प्रतिष्ठान तथा दूतावास बाट सहयोग को आश्वासन पाए का छौं अध्यक्ष राणा ले भने उन ले विशेष गरेर दक्षिण कोरियाली सरकार बाट सहयोग को आशा राखे का छन् राखेप को अस्थिरता का कारण ले जग्गा पाए को वर्ष मा पनि एकेडेमी को सुरुआत गर्न सकेनौं महासचिव गुरुङ ले भने अहिले को नेतृत्व को सहयोग मा काम सुरु गरे का छौं यस लाई निश्चित समय मा पूरा गर्ने छौं खेलाडी ले इन्डोर वा बाहिर प्रशिक्षण गर्दा कति फरक पर्छ भन्ने महसुस गरे का छौं गुरुङ ले सुनाए अब तेक्वान्दो ले अन्तर्राष्ट्रिय प्रतियोगिता मा थप सफलता हात पार्नेछ सन् को सियोल ओलम्पिक मा प्रदर्शनी खेल का रूप मा रहे को तेक्वान्दो मा विधान लामा ले नेपाल लाई पहिलो पदक दिलाउने क्रम मा कांस्य हात पारे का थिए जुन नेपाली खेलाडी को ठूलो फड्को थियो संगीना वैद्य र दीपक विष्ट ले ओलम्पिक मा छनोट हुँदै तेक्वान्दो को सम्भावना र विशेषता लाई प्रस्तुत गरे साग मा नेपाल लाई सर्वाधिक स्वर्ण दिलाए को तेक्वान्दो आठौं देखि खाली हात फर्के को छैन दीपक ले साग मा लगातार चार स्वर्ण जित्दै नयाँ कीर्तिमान राखे का छन् हामी ले अवसर पाएनौं अब का खेलाडी राम्रो अभ्यास गर्ने स्थान बाट वञ्चित हुनु पर्ने छैन उन ले भने तेक्वान्दो मा अब थप अन्तर्राष्ट्रिय कीर्तिमान बनाउने खेलाडी जन्मनेछन् संगीना ले एकेडेमी कोसेढुंगा का रूप मा रहे को बताइन् ट्रेनिङ पछि खान र बस्न हामी लाई निकै गाह्रो हुन्थ्यो नयाँ पिँढी त्यस बाट मुक्त हुनेछन् जस ले गर्दा नयाँ खेलाडी को प्रदर्शन राम्रो हुनेछ सरकार ले एकेडेमी को बजेट रेड बुक मा परि सकेको बताउँदै सदस्य सचिव लामा ले भने दिए को रकम लाई सही सदुपयोग गर्नुहुन्छ भन्ने मा हामी लाई कुनै शं का छैन अखिल नेपाल फुटबल संघ एन्फा का अध्यक्ष गणेश थापा ले एकेडेमी निर्माण का लागि एक लाख रुपैयाँ सहयोग गरे साथै उन ले सबै संघ को एकेडेमी बन्नु पर्ने बताए नेपाल राष्ट्रिय तथा अन्तर्राष्ट्रिय खेलाडी संघ का उपाध्यक्ष संघरत्न महर्जन ले राम्रो काम को प्रशंसा गरे लामा चलचित्र उद्योग मा नर्फकने युवराज लामा दुई दशक भन्दा बढी फिल्म क्षेत्र मै जमे ख्याति पनि कमाए तर लगभग महिना अघि माओवादी पार्टी का तर्फ बाट राखेप मा सदस्य सचिव को हैसियत मा छिरे का उनी फेरि फिल्म क्षेत्र मा र्फकन चाहँदैनन् अब खेलकुद मै जीवन बिताउने उन ले वाचा गरे सोच्नु होला राखेप बाट निस्के पछि युवराज लामा क्यामरा बोकेर फिल्म मा र्फकन्छ उन ले जोसिलो स्वभाव मा सुनाए अब क्यामरा लिएर फिल्म खिच्न जान्नँ उन ले राखेप बाट निस्के पनि खेलकुद मा खराब काम गर्न कसै लाई नदिने बताए खेलकुद मा गलत काम गर्ने लाई कठाला मा समात्न पछि पर्दिनँ लामा ले थपे तीन वर्षे प्रोजेक्टेड बजेट लामा ले राखेप ले मन्त्रालय मार्फत राष्ट्रिय योजना आयोग मा प्रस्तुत गरे को तीन वर्ष को प्रोजेक्टेड बजेट को जानकारी दिए लामा का अनुसार प्रस्तुत योजना मा अन्तर्राष्ट्रिय फुटबल रंगशाला निर्माण का लागि करोड कभर्डहल का लागि करोड हाइअल्टिच्युट टे्रनिङ सेन्टर का लागि करोड पोखरा रंगशाला का लागि करोड प्रत्येक वर्ष राष्ट्रिय प्रतियोगिता का लागि करोड ट्रयाक एन्ड फिल्ड निर्माण का लागि करोड सातौं राष्ट्रिय खेलकुद गर्न का लागि करोड तथा प्रत्येक जिल्ला मा लाख र क्षेत्र मा लाख रुपैयाँ छुट्याइए को छ एनओसी विवाद नेपाल ओलम्पिक कमिटी एनओसी को विवाद प्राविधिक रूप मा टुंगिए को लामा ले बताए अब कानुनी रूपमा टुंग्याउन बाँकी छ उन ले भने एनओसी का बारे मा कडा रूप मा प्रस्तुत भए का लामा ले ओलम्पिक चार्टर्ड अनुसार चल्नु पर्ने बताए नेपाल मा हाल दुई ओलम्पिक कमिटी छन् एउटा राखेप मा दर्ता भई राष्ट्रिय तथा अन्तर्राष्ट्रिय मान्यता पाए को र अर्को सर्वोच्च अदालत ले पुनस्र्थापना गरे को लामा ले भने राष्ट्रिय संघ को समर्थन र अन्तर्राष्ट्रिय मान्यता ल्याए मा अदालत को आदेश मान्दै सहकार्य गर्न तयार छौं'\n",
        "]\n",
        "\n",
        "# Tokenize and pad new texts\n",
        "new_sequences = tokenizer.texts_to_sequences(new_texts)\n",
        "new_X = pad_sequences(new_sequences, maxlen=max_len)\n",
        "\n",
        "# Make predictions\n",
        "class_name = np.array(label_encoder.inverse_transform([0, 1, 2, 3, 4, 5, 6, 7, 8, 9]))\n",
        "predictions = model.predict(new_X)\n",
        "predicted_labels = [np.argmax(pred) for pred in predictions]\n",
        "print(\"Predicted labels:\", class_name[predicted_labels])\n"
      ]
    },
    {
      "cell_type": "code",
      "execution_count": 19,
      "metadata": {},
      "outputs": [
        {
          "data": {
            "text/html": [
              "<pre style=\"white-space:pre;overflow-x:auto;line-height:normal;font-family:Menlo,'DejaVu Sans Mono',consolas,'Courier New',monospace\"><span style=\"font-weight: bold\">Model: \"sequential\"</span>\n",
              "</pre>\n"
            ],
            "text/plain": [
              "\u001b[1mModel: \"sequential\"\u001b[0m\n"
            ]
          },
          "metadata": {},
          "output_type": "display_data"
        },
        {
          "data": {
            "text/html": [
              "<pre style=\"white-space:pre;overflow-x:auto;line-height:normal;font-family:Menlo,'DejaVu Sans Mono',consolas,'Courier New',monospace\">┏━━━━━━━━━━━━━━━━━━━━━━━━━━━━━━━━━┳━━━━━━━━━━━━━━━━━━━━━━━━┳━━━━━━━━━━━━━━━┓\n",
              "┃<span style=\"font-weight: bold\"> Layer (type)                    </span>┃<span style=\"font-weight: bold\"> Output Shape           </span>┃<span style=\"font-weight: bold\">       Param # </span>┃\n",
              "┡━━━━━━━━━━━━━━━━━━━━━━━━━━━━━━━━━╇━━━━━━━━━━━━━━━━━━━━━━━━╇━━━━━━━━━━━━━━━┩\n",
              "│ embedding (<span style=\"color: #0087ff; text-decoration-color: #0087ff\">Embedding</span>)           │ (<span style=\"color: #00af00; text-decoration-color: #00af00\">5</span>, <span style=\"color: #00af00; text-decoration-color: #00af00\">500</span>, <span style=\"color: #00af00; text-decoration-color: #00af00\">128</span>)          │     <span style=\"color: #00af00; text-decoration-color: #00af00\">6,400,000</span> │\n",
              "├─────────────────────────────────┼────────────────────────┼───────────────┤\n",
              "│ dropout (<span style=\"color: #0087ff; text-decoration-color: #0087ff\">Dropout</span>)               │ (<span style=\"color: #00af00; text-decoration-color: #00af00\">5</span>, <span style=\"color: #00af00; text-decoration-color: #00af00\">500</span>, <span style=\"color: #00af00; text-decoration-color: #00af00\">128</span>)          │             <span style=\"color: #00af00; text-decoration-color: #00af00\">0</span> │\n",
              "├─────────────────────────────────┼────────────────────────┼───────────────┤\n",
              "│ bidirectional (<span style=\"color: #0087ff; text-decoration-color: #0087ff\">Bidirectional</span>)   │ (<span style=\"color: #00af00; text-decoration-color: #00af00\">5</span>, <span style=\"color: #00af00; text-decoration-color: #00af00\">500</span>, <span style=\"color: #00af00; text-decoration-color: #00af00\">256</span>)          │       <span style=\"color: #00af00; text-decoration-color: #00af00\">263,168</span> │\n",
              "├─────────────────────────────────┼────────────────────────┼───────────────┤\n",
              "│ attention_layer                 │ (<span style=\"color: #00af00; text-decoration-color: #00af00\">5</span>, <span style=\"color: #00af00; text-decoration-color: #00af00\">256</span>)               │           <span style=\"color: #00af00; text-decoration-color: #00af00\">756</span> │\n",
              "│ (<span style=\"color: #0087ff; text-decoration-color: #0087ff\">AttentionLayer</span>)                │                        │               │\n",
              "├─────────────────────────────────┼────────────────────────┼───────────────┤\n",
              "│ dense (<span style=\"color: #0087ff; text-decoration-color: #0087ff\">Dense</span>)                   │ (<span style=\"color: #00af00; text-decoration-color: #00af00\">5</span>, <span style=\"color: #00af00; text-decoration-color: #00af00\">10</span>)                │         <span style=\"color: #00af00; text-decoration-color: #00af00\">2,570</span> │\n",
              "└─────────────────────────────────┴────────────────────────┴───────────────┘\n",
              "</pre>\n"
            ],
            "text/plain": [
              "┏━━━━━━━━━━━━━━━━━━━━━━━━━━━━━━━━━┳━━━━━━━━━━━━━━━━━━━━━━━━┳━━━━━━━━━━━━━━━┓\n",
              "┃\u001b[1m \u001b[0m\u001b[1mLayer (type)                   \u001b[0m\u001b[1m \u001b[0m┃\u001b[1m \u001b[0m\u001b[1mOutput Shape          \u001b[0m\u001b[1m \u001b[0m┃\u001b[1m \u001b[0m\u001b[1m      Param #\u001b[0m\u001b[1m \u001b[0m┃\n",
              "┡━━━━━━━━━━━━━━━━━━━━━━━━━━━━━━━━━╇━━━━━━━━━━━━━━━━━━━━━━━━╇━━━━━━━━━━━━━━━┩\n",
              "│ embedding (\u001b[38;5;33mEmbedding\u001b[0m)           │ (\u001b[38;5;34m5\u001b[0m, \u001b[38;5;34m500\u001b[0m, \u001b[38;5;34m128\u001b[0m)          │     \u001b[38;5;34m6,400,000\u001b[0m │\n",
              "├─────────────────────────────────┼────────────────────────┼───────────────┤\n",
              "│ dropout (\u001b[38;5;33mDropout\u001b[0m)               │ (\u001b[38;5;34m5\u001b[0m, \u001b[38;5;34m500\u001b[0m, \u001b[38;5;34m128\u001b[0m)          │             \u001b[38;5;34m0\u001b[0m │\n",
              "├─────────────────────────────────┼────────────────────────┼───────────────┤\n",
              "│ bidirectional (\u001b[38;5;33mBidirectional\u001b[0m)   │ (\u001b[38;5;34m5\u001b[0m, \u001b[38;5;34m500\u001b[0m, \u001b[38;5;34m256\u001b[0m)          │       \u001b[38;5;34m263,168\u001b[0m │\n",
              "├─────────────────────────────────┼────────────────────────┼───────────────┤\n",
              "│ attention_layer                 │ (\u001b[38;5;34m5\u001b[0m, \u001b[38;5;34m256\u001b[0m)               │           \u001b[38;5;34m756\u001b[0m │\n",
              "│ (\u001b[38;5;33mAttentionLayer\u001b[0m)                │                        │               │\n",
              "├─────────────────────────────────┼────────────────────────┼───────────────┤\n",
              "│ dense (\u001b[38;5;33mDense\u001b[0m)                   │ (\u001b[38;5;34m5\u001b[0m, \u001b[38;5;34m10\u001b[0m)                │         \u001b[38;5;34m2,570\u001b[0m │\n",
              "└─────────────────────────────────┴────────────────────────┴───────────────┘\n"
            ]
          },
          "metadata": {},
          "output_type": "display_data"
        },
        {
          "data": {
            "text/html": [
              "<pre style=\"white-space:pre;overflow-x:auto;line-height:normal;font-family:Menlo,'DejaVu Sans Mono',consolas,'Courier New',monospace\"><span style=\"font-weight: bold\"> Total params: </span><span style=\"color: #00af00; text-decoration-color: #00af00\">19,999,484</span> (76.29 MB)\n",
              "</pre>\n"
            ],
            "text/plain": [
              "\u001b[1m Total params: \u001b[0m\u001b[38;5;34m19,999,484\u001b[0m (76.29 MB)\n"
            ]
          },
          "metadata": {},
          "output_type": "display_data"
        },
        {
          "data": {
            "text/html": [
              "<pre style=\"white-space:pre;overflow-x:auto;line-height:normal;font-family:Menlo,'DejaVu Sans Mono',consolas,'Courier New',monospace\"><span style=\"font-weight: bold\"> Trainable params: </span><span style=\"color: #00af00; text-decoration-color: #00af00\">6,666,494</span> (25.43 MB)\n",
              "</pre>\n"
            ],
            "text/plain": [
              "\u001b[1m Trainable params: \u001b[0m\u001b[38;5;34m6,666,494\u001b[0m (25.43 MB)\n"
            ]
          },
          "metadata": {},
          "output_type": "display_data"
        },
        {
          "data": {
            "text/html": [
              "<pre style=\"white-space:pre;overflow-x:auto;line-height:normal;font-family:Menlo,'DejaVu Sans Mono',consolas,'Courier New',monospace\"><span style=\"font-weight: bold\"> Non-trainable params: </span><span style=\"color: #00af00; text-decoration-color: #00af00\">0</span> (0.00 B)\n",
              "</pre>\n"
            ],
            "text/plain": [
              "\u001b[1m Non-trainable params: \u001b[0m\u001b[38;5;34m0\u001b[0m (0.00 B)\n"
            ]
          },
          "metadata": {},
          "output_type": "display_data"
        },
        {
          "data": {
            "text/html": [
              "<pre style=\"white-space:pre;overflow-x:auto;line-height:normal;font-family:Menlo,'DejaVu Sans Mono',consolas,'Courier New',monospace\"><span style=\"font-weight: bold\"> Optimizer params: </span><span style=\"color: #00af00; text-decoration-color: #00af00\">13,332,990</span> (50.86 MB)\n",
              "</pre>\n"
            ],
            "text/plain": [
              "\u001b[1m Optimizer params: \u001b[0m\u001b[38;5;34m13,332,990\u001b[0m (50.86 MB)\n"
            ]
          },
          "metadata": {},
          "output_type": "display_data"
        }
      ],
      "source": [
        "model.summary()"
      ]
    },
    {
      "cell_type": "code",
      "execution_count": 17,
      "metadata": {},
      "outputs": [],
      "source": [
        "def prediction_class(prediction_vector):\n",
        "    result = []\n",
        "    for result_vector in prediction_vector:\n",
        "        result.append(np.argmax(result_vector))\n",
        "    return result"
      ]
    },
    {
      "cell_type": "code",
      "execution_count": 18,
      "metadata": {},
      "outputs": [
        {
          "name": "stdout",
          "output_type": "stream",
          "text": [
            "\u001b[1m63/63\u001b[0m \u001b[32m━━━━━━━━━━━━━━━━━━━━\u001b[0m\u001b[37m\u001b[0m \u001b[1m9s\u001b[0m 134ms/step\n"
          ]
        }
      ],
      "source": [
        "y_pred = prediction_class(model.predict(X_test))"
      ]
    },
    {
      "cell_type": "code",
      "execution_count": 19,
      "metadata": {
        "id": "FpzRnJWZyUDL"
      },
      "outputs": [],
      "source": [
        "from sklearn.metrics import confusion_matrix, accuracy_score, recall_score, precision_score\n",
        "cm = confusion_matrix(y_test, y_pred)\n",
        "asco = accuracy_score(y_test, y_pred)\n",
        "rssco = recall_score(y_test, y_pred, average = 'macro')\n",
        "pssco = precision_score(y_test, y_pred, average = 'macro')"
      ]
    },
    {
      "cell_type": "code",
      "execution_count": 20,
      "metadata": {
        "id": "pxCze5fryaSu"
      },
      "outputs": [
        {
          "name": "stdout",
          "output_type": "stream",
          "text": [
            "[[182   3   7   0   0   8   0   4   1   2]\n",
            " [  2 181   0   0   1   4   8   0   1   1]\n",
            " [  3   2 170   0   4  13   1   0   5  11]\n",
            " [  0   0   2 200   1   1   0   0   0   0]\n",
            " [  0   0   1   0 169   6  40   0   1   4]\n",
            " [  3   1   8   1   7 151  15   0   1  13]\n",
            " [  1  10   1   1  51   6 131   0   0   1]\n",
            " [  6   0   7   1   1   4   0 170   2   1]\n",
            " [  2   1   7   0   1   2   0   2 169   5]\n",
            " [  3   0   5   0   7   1   0   2   0 160]]\n",
            "Accuracy =  0.8415\n",
            "Recall =  0.8433851452509892\n",
            "Precision = 0.8460236899579028\n"
          ]
        }
      ],
      "source": [
        "print(cm)\n",
        "print(\"Accuracy = \", asco)\n",
        "print(\"Recall = \", rssco)\n",
        "print(\"Precision =\", pssco)"
      ]
    },
    {
      "cell_type": "code",
      "execution_count": 21,
      "metadata": {
        "id": "E1FmHZ-a92Wp"
      },
      "outputs": [
        {
          "name": "stdout",
          "output_type": "stream",
          "text": [
            "              precision    recall  f1-score   support\n",
            "\n",
            "           0       0.90      0.88      0.89       207\n",
            "           1       0.91      0.91      0.91       198\n",
            "           2       0.82      0.81      0.82       209\n",
            "           3       0.99      0.98      0.98       204\n",
            "           4       0.70      0.76      0.73       221\n",
            "           5       0.77      0.76      0.76       200\n",
            "           6       0.67      0.65      0.66       202\n",
            "           7       0.96      0.89      0.92       192\n",
            "           8       0.94      0.89      0.92       189\n",
            "           9       0.81      0.90      0.85       178\n",
            "\n",
            "    accuracy                           0.84      2000\n",
            "   macro avg       0.85      0.84      0.84      2000\n",
            "weighted avg       0.84      0.84      0.84      2000\n",
            "\n"
          ]
        }
      ],
      "source": [
        "from sklearn.metrics import classification_report\n",
        "print(classification_report(y_test, y_pred))\n"
      ]
    },
    {
      "cell_type": "code",
      "execution_count": 17,
      "metadata": {},
      "outputs": [
        {
          "name": "stdout",
          "output_type": "stream",
          "text": [
            "['ArthaBanijya' 'Bichar' 'Desh' 'Khelkud' 'Manoranjan' 'Prabas' 'Sahitya'\n",
            " 'SuchanaPrabidhi' 'Swasthya' 'Viswa']\n"
          ]
        }
      ],
      "source": [
        "class_name = label_encoder.inverse_transform([0, 1, 2, 3, 4, 5, 6, 7, 8, 9])\n",
        "print(class_name)"
      ]
    },
    {
      "cell_type": "code",
      "execution_count": 18,
      "metadata": {
        "id": "K04zzixIAo5j"
      },
      "outputs": [
        {
          "data": {
            "image/png": "[encoded data removed]",
            "text/plain": [
              "<Figure size 1000x700 with 2 Axes>"
            ]
          },
          "metadata": {},
          "output_type": "display_data"
        }
      ],
      "source": [
        "import matplotlib.pyplot as plt\n",
        "import seaborn as sns\n",
        "range_for_class = [x for x in range(0, 10, 1)]\n",
        "conf_matrix = tf.math.confusion_matrix(y_test, y_pred)\n",
        "plt.figure(figsize=(10, 7))\n",
        "ax = sns.heatmap(conf_matrix, annot=True, fmt='d', cmap='Blues', yticklabels= class_name, xticklabels= class_name)\n",
        "plt.xlabel('Predicted')\n",
        "plt.ylabel('True')\n",
        "plt.show()\n"
      ]
    },
    {
      "cell_type": "code",
      "execution_count": 19,
      "metadata": {},
      "outputs": [
        {
          "data": {
            "text/plain": [
              "array(['ArthaBanijya', 'Bichar', 'Desh', 'Khelkud', 'Manoranjan',\n",
              "       'Prabas', 'Sahitya', 'SuchanaPrabidhi', 'Swasthya', 'Viswa'],\n",
              "      dtype='<U15')"
            ]
          },
          "execution_count": 19,
          "metadata": {},
          "output_type": "execute_result"
        }
      ],
      "source": [
        "class_name"
      ]
    },
    {
      "cell_type": "code",
      "execution_count": 31,
      "metadata": {},
      "outputs": [
        {
          "data": {
            "text/plain": [
              "<matplotlib.legend.Legend at 0x21d24921360>"
            ]
          },
          "execution_count": 31,
          "metadata": {},
          "output_type": "execute_result"
        },
        {
          "data": {
            "image/png": "[encoded data removed]",
            "text/plain": [
              "<Figure size 1200x400 with 2 Axes>"
            ]
          },
          "metadata": {},
          "output_type": "display_data"
        }
      ],
      "source": [
        "import matplotlib.pyplot as plt\n",
        "\n",
        "# Plotting training & validation accuracy values\n",
        "plt.figure(figsize=(12, 4))\n",
        "plt.subplot(1, 2, 1)\n",
        "plt.plot(history.history['accuracy'])\n",
        "plt.plot(history.history['val_accuracy'])\n",
        "plt.title('Model Accuracy')\n",
        "plt.ylabel('Accuracy')\n",
        "plt.xlabel('Epoch')\n",
        "plt.legend(['Train', 'Validation'], loc='upper left')\n",
        "\n",
        "# Plotting training & validation loss values\n",
        "plt.subplot(1, 2, 2)\n",
        "plt.plot(history.history['loss'])\n",
        "plt.plot(history.history['val_loss'])\n",
        "plt.title('Model Loss')\n",
        "plt.ylabel('Loss')\n",
        "plt.xlabel('Epoch')\n",
        "plt.legend(['Train', 'Validation'], loc='upper left')"
      ]
    },
    {
      "cell_type": "code",
      "execution_count": 67,
      "metadata": {},
      "outputs": [],
      "source": [
        "from sklearn.metrics.pairwise import cosine_similarity\n",
        "\n",
        "def recommend(model, dataset, news_index, recommendation_no = 5):\n",
        "    predicted_vector = model.predict(dataset)\n",
        "    main_news = np.array([predicted_vector[news_index]])\n",
        "    similarity_matrix = cosine_similarity(main_news, predicted_vector)\n",
        "    similarity_matrix = similarity_matrix.tolist()[0]\n",
        "    result_array = []    \n",
        "    for indx, similarity in enumerate(similarity_matrix):\n",
        "        if indx != news_index:\n",
        "            result_array.append([indx, similarity])\n",
        "    result_array.sort(key=lambda x: x[1], reverse = True)\n",
        "    return zip(*result_array[0: recommendation_no])"
      ]
    },
    {
      "cell_type": "code",
      "execution_count": 70,
      "metadata": {},
      "outputs": [
        {
          "name": "stdout",
          "output_type": "stream",
          "text": [
            "\u001b[1m63/63\u001b[0m \u001b[32m━━━━━━━━━━━━━━━━━━━━\u001b[0m\u001b[37m\u001b[0m \u001b[1m9s\u001b[0m 149ms/step\n"
          ]
        }
      ],
      "source": [
        "indexs, similarity  = recommend(model, X_test, news_index = 1, recommendation_no = 5)"
      ]
    },
    {
      "cell_type": "code",
      "execution_count": 74,
      "metadata": {},
      "outputs": [
        {
          "name": "stdout",
          "output_type": "stream",
          "text": [
            "(1114, 246, 381, 93, 223) (1.0, 0.9999999403953552, 0.9999999403953552, 0.9999998807907104, 0.9999998807907104)\n"
          ]
        }
      ],
      "source": [
        "print(indexs, similarity)"
      ]
    },
    {
      "cell_type": "code",
      "execution_count": 72,
      "metadata": {},
      "outputs": [
        {
          "ename": "IndexError",
          "evalue": "too many indices for array: array is 2-dimensional, but 5 were indexed",
          "output_type": "error",
          "traceback": [
            "\u001b[1;31m---------------------------------------------------------------------------\u001b[0m",
            "\u001b[1;31mIndexError\u001b[0m                                Traceback (most recent call last)",
            "Cell \u001b[1;32mIn[72], line 1\u001b[0m\n\u001b[1;32m----> 1\u001b[0m \u001b[43mX_test\u001b[49m\u001b[43m[\u001b[49m\u001b[43mindexs\u001b[49m\u001b[43m]\u001b[49m\n",
            "\u001b[1;31mIndexError\u001b[0m: too many indices for array: array is 2-dimensional, but 5 were indexed"
          ]
        }
      ],
      "source": [
        "X_test[indexs]"
      ]
    },
    {
      "cell_type": "code",
      "execution_count": null,
      "metadata": {},
      "outputs": [],
      "source": []
    },
    {
      "cell_type": "code",
      "execution_count": null,
      "metadata": {},
      "outputs": [],
      "source": []
    }
  ],
  "metadata": {
    "colab": {
      "provenance": []
    },
    "kernelspec": {
      "display_name": "Python 3",
      "name": "python3"
    },
    "language_info": {
      "codemirror_mode": {
        "name": "ipython",
        "version": 3
      },
      "file_extension": ".py",
      "mimetype": "text/x-python",
      "name": "python",
      "nbconvert_exporter": "python",
      "pygments_lexer": "ipython3",
      "version": "3.12.4"
    }
  },
  "nbformat": 4,
  "nbformat_minor": 0
}
